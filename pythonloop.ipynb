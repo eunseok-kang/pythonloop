{
  "nbformat": 4,
  "nbformat_minor": 0,
  "metadata": {
    "colab": {
      "name": "pythonloop.ipynb",
      "provenance": []
    },
    "kernelspec": {
      "name": "python3",
      "display_name": "Python 3"
    },
    "language_info": {
      "name": "python"
    }
  },
  "cells": [
    {
      "cell_type": "code",
      "source": [
        "import math"
      ],
      "metadata": {
        "id": "sQjMSsPRV-dN"
      },
      "execution_count": null,
      "outputs": []
    },
    {
      "cell_type": "code",
      "execution_count": null,
      "metadata": {
        "colab": {
          "base_uri": "https://localhost:8080/"
        },
        "id": "wFiXUirPSW0J",
        "outputId": "585bf026-af37-44fa-c316-b70e07d1f54c"
      },
      "outputs": [
        {
          "output_type": "stream",
          "name": "stdout",
          "text": [
            "['League of Legends', 'Valorant', 'Legends of Runeterra']\n",
            "['League of Legends', 'Valorant', 'Legends of Runeterra']\n",
            "['League of Legends', 'Valorant', 'Legends of Runeterra']\n"
          ]
        }
      ],
      "source": [
        "list1 = [\"League of Legends\", \"Valorant\", \"Legends of Runeterra\"]\n",
        "for x in list1:\n",
        "  print(list1)"
      ]
    },
    {
      "cell_type": "code",
      "source": [
        "def test():\n",
        "  usrinput = input(\"What game do you play?\")\n",
        "  return usrinput\n",
        "\n",
        "test()"
      ],
      "metadata": {
        "colab": {
          "base_uri": "https://localhost:8080/",
          "height": 53
        },
        "id": "8jwOHvjMYU9v",
        "outputId": "5a2910f1-7fa3-44de-d4a4-435d1429901f"
      },
      "execution_count": null,
      "outputs": [
        {
          "name": "stdout",
          "output_type": "stream",
          "text": [
            "What game do you play?league\n"
          ]
        },
        {
          "output_type": "execute_result",
          "data": {
            "text/plain": [
              "'league'"
            ],
            "application/vnd.google.colaboratory.intrinsic+json": {
              "type": "string"
            }
          },
          "metadata": {},
          "execution_count": 21
        }
      ]
    },
    {
      "cell_type": "code",
      "source": [
        ""
      ],
      "metadata": {
        "id": "gvikkG7CXvgz"
      },
      "execution_count": null,
      "outputs": []
    }
  ]
}